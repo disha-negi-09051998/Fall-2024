{
 "cells": [
  {
   "cell_type": "markdown",
   "metadata": {},
   "source": [
    "# IST 652 Lab #2\n",
    "### Instructions\n",
    "- Complete all 5 questions in this assignment.\n",
    "- <b> The work you submit must be your own </b>.\n",
    "- Submitting some else's work as your own is an academic integrity violation and will be raised to academic affairs.\n",
    "- It is always better to attempt a problem as partial credit may be granted.\n",
    "\n",
    "\n",
    "### Submission Guide:\n",
    "- Submit your answers on BlackBoard by Wednesday, March 3rd, 5:00 PM\n",
    "- The file must be either a .py or .ipynb file type.\n",
    "- The name of the file should be <i> ist652_lab2_lastname.py (.ipynb) </i> .\n",
    "\n",
    "\n",
    "### Grading [ 5 total points ]\n",
    "For Each Question, the following credit will be awarded:\n",
    "- 0.85 for printing the correct answer to the console.\n",
    "- 0.10 for approaching the problem efficiently.\n",
    "- 0.05 for properly documenting and commenting your code."
   ]
  },
  {
   "cell_type": "markdown",
   "metadata": {},
   "source": [
    "---\n",
    "### Questions"
   ]
  },
  {
   "cell_type": "markdown",
   "metadata": {},
   "source": [
    "### ( 1 ) Given a list of non-empty tuples, write a sort expression that will sort in increasing order by the last element in each tuple.\n",
    "for eample: \n",
    "- [(1, 7), (1, 3), (3, 4, 5), (2, 2)]\n",
    "\n",
    "yields\n",
    "- [(2, 2), (1, 3), (3, 4, 5), (1, 7)]\n",
    "\n",
    "\n",
    "<b> 2 Examples </b>\n",
    "\n",
    "Define at least two lists with tuples of different lengths and show the same sort expression executing against both lists.\n",
    "\n",
    "##### [1 point]"
   ]
  },
  {
   "cell_type": "code",
   "execution_count": null,
   "metadata": {},
   "outputs": [],
   "source": [
    "# Example list #1\n",
    "# Enter your code here, printing relevant answers to console:\n",
    "\n"
   ]
  },
  {
   "cell_type": "code",
   "execution_count": null,
   "metadata": {},
   "outputs": [],
   "source": [
    "# Example list #2\n",
    "# Enter your code here, printing relevant answers to console:\n",
    "\n",
    "\n"
   ]
  },
  {
   "cell_type": "markdown",
   "metadata": {},
   "source": [
    " ----"
   ]
  },
  {
   "cell_type": "markdown",
   "metadata": {},
   "source": [
    "### ( 2a ) Given the grades of 21 students in a class, write a program which will print to console: [.35 point]\n",
    "- The maximum grade <b>and</b> the student(s) who recieved it\n",
    "- The minimum grade <b>and</b> the student(s) who recieved it\n",
    "- The average (mean) grade for the entire class\n",
    "\n",
    "### ( 2b )  Given the same grades as the previous question, write a program which will print to console: [.35 point]\n",
    "- The median grade and the student who recieved it\n",
    "- For a refresher on what the Median is, please see here: https://www.mathsisfun.com/median.html\n",
    "\n",
    "<b>NOTE:</b> Since this list has an odd number of entries, there will be 1 student who falls directly in the middle of the sorted list. There is no need to solve for a tie-break (i.e. averaging among two middle values).\n",
    "\n",
    "### ( 2c )  Given the same grades as the previous question, write a program which will print to console: [.30 point] \n",
    "- The mode grade and the student(s) who recieved it\n",
    "- For a refresher on what the Mode is, please see here: https://www.mathsisfun.com/mode.html\n",
    "\n",
    "##### [1 point]"
   ]
  },
  {
   "cell_type": "code",
   "execution_count": 1,
   "metadata": {},
   "outputs": [],
   "source": [
    "# Enter your code here, printing relevant answers to console:\n",
    "\n",
    "grades = [['Harry', 89],\n",
    "          ['Berry', 82],\n",
    "          ['Tina', 78],\n",
    "          ['Akriti', 92],\n",
    "          ['Harsh', 93],\n",
    "          ['Ben', 68],\n",
    "          ['Geeta', 70],\n",
    "          ['Tao', 75],\n",
    "          ['Kelly', 100],\n",
    "          ['Miguel', 99],\n",
    "          ['Ashley', 80],\n",
    "          ['Marta', 92],\n",
    "          ['Jackson', 90],\n",
    "          ['Freddy', 85],\n",
    "          ['Lilly', 70],\n",
    "          ['Albert', 75],\n",
    "          ['Watson', 100],\n",
    "          ['Juan', 99],\n",
    "          ['Belle', 92],\n",
    "          ['Nikhil', 91],\n",
    "          ['Freddy', 100],]\n"
   ]
  },
  {
   "cell_type": "markdown",
   "metadata": {},
   "source": [
    "---\n",
    "### ( 3 ) Given the following dictionary of people and their ages, concatenate the age and name like below. Then print the new strings in descending order by age. [1 point]\n",
    "- <i>value-key, for instance:</i>\n",
    "    - '30-Harry'\n",
    "    - '22-Berry'\n",
    "    - ...\n",
    "    - '22-Nikhil'\n",
    "\n",
    "\n",
    "##### [1 point]"
   ]
  },
  {
   "cell_type": "code",
   "execution_count": null,
   "metadata": {},
   "outputs": [],
   "source": [
    "# Enter your code here, printing relevant answers to console:\n",
    "\n",
    "age_dict = {'Harry': 30,\n",
    "          'Berry': 22,\n",
    "          'Tina': 25,\n",
    "          'Akriti': 32,\n",
    "          'Harsh': 61,\n",
    "          'Ben': 47,\n",
    "          'Geeta': 55,\n",
    "          'Tao': 39,\n",
    "          'Kelly': 27,\n",
    "          'Miguel': 29,\n",
    "          'Ashley': 29,\n",
    "          'Marta': 33,\n",
    "          'Jackson': 19,\n",
    "          'Freddy': 18,\n",
    "          'Lilly': 44,\n",
    "          'Albert': 23,\n",
    "          'Watson': 19,\n",
    "          'Juan': 41,\n",
    "          'Belle': 32,\n",
    "          'Nikhil': 22,}"
   ]
  },
  {
   "cell_type": "markdown",
   "metadata": {},
   "source": [
    "### ( 4 ) Using either a loop or a list comprehension - write a program which generates the first 20 even squares. [1 point]\n",
    "\n",
    "- An even number is evenly divisible by 2 (i.e. with remainder 0)\n",
    "- A square is a value which is yielded when it's square-root is multiplied by itself:\n",
    "    - 4 is a square since it's equal to 2*2\n",
    "    - 9 is a square since it's equal to 3*3\n",
    "        - However, 9 is not even and should not be printed.\n",
    "- Zero (0) <u>should not</u> be considered an even square\n",
    "       \n",
    "\n",
    "##### [1 point]"
   ]
  },
  {
   "cell_type": "code",
   "execution_count": null,
   "metadata": {},
   "outputs": [],
   "source": [
    "# Enter your code here, printing relevant answers to console:\n",
    "\n"
   ]
  },
  {
   "cell_type": "markdown",
   "metadata": {},
   "source": [
    "### ( 5 ) Print the following summary statistics from the dictionary of animals in a zoo. [1 point]\n",
    "##### NOTE: key = specie : value = number of animals in zoe\n",
    "- The number of distict specie\n",
    "- The total number of animals\n",
    "- The specie(s) with the most members\n",
    "- The specie(s) with the least members\n",
    "- The average number of animals/specie\n",
    "\n",
    "##### [1 point]"
   ]
  },
  {
   "cell_type": "code",
   "execution_count": 2,
   "metadata": {},
   "outputs": [],
   "source": [
    "zoo_animals = {'giraffe':3,\n",
    "              'elephant':4,\n",
    "              'lion':9,\n",
    "              'hippopotamus':1,\n",
    "              'crocodile':25,\n",
    "              'wild dog':5,\n",
    "              'hyena':10,\n",
    "              'zebra':9,\n",
    "              'anaconda':25,\n",
    "              'python':5,\n",
    "              'kangaroo':10,\n",
    "              'cheetah':2,\n",
    "              'leopard':1}\n"
   ]
  }
 ],
 "metadata": {
  "kernelspec": {
   "display_name": "Python 3",
   "language": "python",
   "name": "python3"
  },
  "language_info": {
   "codemirror_mode": {
    "name": "ipython",
    "version": 3
   },
   "file_extension": ".py",
   "mimetype": "text/x-python",
   "name": "python",
   "nbconvert_exporter": "python",
   "pygments_lexer": "ipython3",
   "version": "3.8.3"
  }
 },
 "nbformat": 4,
 "nbformat_minor": 2
}
