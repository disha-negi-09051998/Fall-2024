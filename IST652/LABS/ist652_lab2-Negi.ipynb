{
 "cells": [
  {
   "cell_type": "markdown",
   "metadata": {},
   "source": [
    "# IST 652 Lab #2\n",
    "### Instructions\n",
    "- Complete all 5 questions in this assignment.\n",
    "- <b> The work you submit must be your own </b>.\n",
    "- Submitting some else's work as your own is an academic integrity violation and will be raised to academic affairs.\n",
    "- It is always better to attempt a problem as partial credit may be granted.\n",
    "\n",
    "\n",
    "### Submission Guide:\n",
    "- Submit your answers on BlackBoard by Wednesday, March 3rd, 5:00 PM\n",
    "- The file must be either a .py or .ipynb file type.\n",
    "- The name of the file should be <i> ist652_lab2_lastname.py (.ipynb) </i> .\n",
    "\n",
    "\n",
    "### Grading [ 5 total points ]\n",
    "For Each Question, the following credit will be awarded:\n",
    "- 0.85 for printing the correct answer to the console.\n",
    "- 0.10 for approaching the problem efficiently.\n",
    "- 0.05 for properly documenting and commenting your code."
   ]
  },
  {
   "cell_type": "markdown",
   "metadata": {},
   "source": [
    "---\n",
    "### Questions"
   ]
  },
  {
   "cell_type": "markdown",
   "metadata": {},
   "source": [
    "### ( 1 ) Given a list of non-empty tuples, write a sort expression that will sort in increasing order by the last element in each tuple.\n",
    "for eample: \n",
    "- [(1, 7), (1, 3), (3, 4, 5), (2, 2)]\n",
    "\n",
    "yields\n",
    "- [(2, 2), (1, 3), (3, 4, 5), (1, 7)]\n",
    "\n",
    "\n",
    "<b> 2 Examples </b>\n",
    "\n",
    "Define at least two lists with tuples of different lengths and show the same sort expression executing against both lists.\n",
    "\n",
    "##### [1 point]"
   ]
  },
  {
   "cell_type": "code",
   "execution_count": 51,
   "metadata": {
    "tags": []
   },
   "outputs": [
    {
     "name": "stdout",
     "output_type": "stream",
     "text": [
      "[(2, 2), (1, 3), (3, 4, 5), (1, 7)]\n"
     ]
    }
   ],
   "source": [
    "# Example list #1\n",
    "# Enter your code here, printing relevant answers to console:\n",
    "\n",
    "# List of tuples\n",
    "tuples_list = [(1, 7), (1, 3), (3, 4, 5), (2, 2)]\n",
    "\n",
    "# Sorting by the last element of each tuple\n",
    "sorted_list = sorted(tuples_list, key=lambda x: x[-1])\n",
    "\n",
    "# Output the sorted list\n",
    "print(sorted_list)\n"
   ]
  },
  {
   "cell_type": "code",
   "execution_count": 52,
   "metadata": {
    "tags": []
   },
   "outputs": [
    {
     "name": "stdout",
     "output_type": "stream",
     "text": [
      "[(1, 2), (28, 5, 3), (0, 1, 9, 6), (10, 8, 7), (6, 10)]\n"
     ]
    }
   ],
   "source": [
    "# Example list #2\n",
    "# Enter your code here, printing relevant answers to console:\n",
    "\n",
    "# List of tuples with different lengths\n",
    "tuples_list_1 = [(6, 10), (1, 2), (10, 8, 7), (28, 5, 3), (0, 1, 9, 6)]\n",
    "\n",
    "# Sorting the tuples based on the last element of each tuple\n",
    "sorted_list_1 = sorted(tuples_list_1, key=lambda x: x[-1])\n",
    "\n",
    "# Output the sorted list\n",
    "print(sorted_list_1)\n"
   ]
  },
  {
   "cell_type": "markdown",
   "metadata": {},
   "source": [
    " ----"
   ]
  },
  {
   "cell_type": "markdown",
   "metadata": {},
   "source": [
    "### ( 2a ) Given the grades of 21 students in a class, write a program which will print to console: [.35 point]\n",
    "- The maximum grade <b>and</b> the student(s) who recieved it\n",
    "- The minimum grade <b>and</b> the student(s) who recieved it\n",
    "- The average (mean) grade for the entire class\n",
    "\n",
    "### ( 2b )  Given the same grades as the previous question, write a program which will print to console: [.35 point]\n",
    "- The median grade and the student who recieved it\n",
    "- For a refresher on what the Median is, please see here: https://www.mathsisfun.com/median.html\n",
    "\n",
    "<b>NOTE:</b> Since this list has an odd number of entries, there will be 1 student who falls directly in the middle of the sorted list. There is no need to solve for a tie-break (i.e. averaging among two middle values).\n",
    "\n",
    "### ( 2c )  Given the same grades as the previous question, write a program which will print to console: [.30 point] \n",
    "- The mode grade and the student(s) who recieved it\n",
    "- For a refresher on what the Mode is, please see here: https://www.mathsisfun.com/mode.html\n",
    "\n",
    "##### [1 point]"
   ]
  },
  {
   "cell_type": "code",
   "execution_count": 53,
   "metadata": {
    "tags": []
   },
   "outputs": [
    {
     "name": "stdout",
     "output_type": "stream",
     "text": [
      "2a)Maximum grade: 100, received by: Kelly, Watson, Freddy\n",
      "2a)Minimum grade: 68, received by: Ben\n",
      "2a)Average grade: 86.67\n",
      "\n",
      "2b)Median grade: 90, received by: Jackson\n",
      "\n",
      "2c)Mode grade(s): 92, 100\n",
      "2c)Grade: 92, received by: Akriti, Marta, Belle\n",
      "2c)Grade: 100, received by: Kelly, Watson, Freddy\n"
     ]
    }
   ],
   "source": [
    "# Enter your code here, printing relevant answers to console:\n",
    "\n",
    "grades = [['Harry', 89],\n",
    "          ['Berry', 82],\n",
    "          ['Tina', 78],\n",
    "          ['Akriti', 92],\n",
    "          ['Harsh', 93],\n",
    "          ['Ben', 68],\n",
    "          ['Geeta', 70],\n",
    "          ['Tao', 75],\n",
    "          ['Kelly', 100],\n",
    "          ['Miguel', 99],\n",
    "          ['Ashley', 80],\n",
    "          ['Marta', 92],\n",
    "          ['Jackson', 90],\n",
    "          ['Freddy', 85],\n",
    "          ['Lilly', 70],\n",
    "          ['Albert', 75],\n",
    "          ['Watson', 100],\n",
    "          ['Juan', 99],\n",
    "          ['Belle', 92],\n",
    "          ['Nikhil', 91],\n",
    "          ['Freddy', 100],]\n",
    "\n",
    "# Initialize variables for max, min, and sum\n",
    "max_grade = grades[0][1]\n",
    "min_grade = grades[0][1]\n",
    "total_grades = 0\n",
    "\n",
    "# Lists to store students who got the max and min grades\n",
    "students_with_max = [grades[0][0]]\n",
    "students_with_min = [grades[0][0]]\n",
    "\n",
    "# Loop through the grades to find max, min, and calculate sum\n",
    "for student, grade in grades:\n",
    "    total_grades += grade\n",
    "\n",
    "    # Check for maximum grade\n",
    "    if grade > max_grade:\n",
    "        max_grade = grade\n",
    "        students_with_max = [student]  # Reset list with the new max student\n",
    "    elif grade == max_grade:\n",
    "        students_with_max.append(student)  # Add to list if grade equals max\n",
    "\n",
    "    # Check for minimum grade\n",
    "    if grade < min_grade:\n",
    "        min_grade = grade\n",
    "        students_with_min = [student]  # Reset list with the new min student\n",
    "    elif grade == min_grade:\n",
    "        students_with_min.append(student)  # Add to list if grade equals min\n",
    "\n",
    "# Calculate the average (mean) grade\n",
    "average_grade = total_grades / len(grades)\n",
    "\n",
    "# Print the results\n",
    "print(f\"2a)Maximum grade: {max_grade}, received by: {', '.join(students_with_max)}\")\n",
    "print(f\"2a)Minimum grade: {min_grade}, received by: {', '.join(students_with_min)}\")\n",
    "print(f\"2a)Average grade: {average_grade:.2f}\")\n",
    "\n",
    "print()\n",
    "\n",
    "# Step 1-> Sort the list of grades using sorted() and lambda\n",
    "sorted_grades = sorted(grades, key=lambda x: x[1])  # Sort by grade (2nd element of each tuple)\n",
    "\n",
    "# Step 2-> Calculate the median\n",
    "n = len(sorted_grades)\n",
    "\n",
    "# If odd number of students, the median is the middle element\n",
    "if n % 2 == 1:\n",
    "    median_grade = sorted_grades[n // 2][1]  # Middle student's grade\n",
    "    students_with_median = [sorted_grades[n // 2][0]]  # Middle student's name\n",
    "\n",
    "# If even number of students, the median is the average of two middle elements(Added this functionaity for learning purpose) \n",
    "else:\n",
    "    middle1 = sorted_grades[n // 2 - 1][1]\n",
    "    middle2 = sorted_grades[n // 2][1]\n",
    "    median_grade = (middle1 + middle2) / 2  # Average of two middle grades\n",
    "    students_with_median = [sorted_grades[n // 2 - 1][0], sorted_grades[n // 2][0]]  # Both students' names\n",
    "\n",
    "# Step 3-> Print the result\n",
    "print(f\"2b)Median grade: {median_grade}, received by: {', '.join(students_with_median)}\")\n",
    "\n",
    "print()\n",
    "\n",
    "# Step 1-> Count the frequency of each grade and map students to their grades in one loop\n",
    "grade_count = {}\n",
    "mode_students = {}\n",
    "\n",
    "# Loop through the list of grades to count frequency and map students\n",
    "for student, grade in grades:\n",
    "    if grade not in grade_count:\n",
    "        grade_count[grade] = 0\n",
    "        mode_students[grade] = []\n",
    "    grade_count[grade] += 1\n",
    "    mode_students[grade].append(student)\n",
    "\n",
    "# Step 2-> Find the mode grade(s)\n",
    "max_count = max(grade_count.values())  # Get the highest frequency\n",
    "modes = [grade for grade, count in grade_count.items() if count == max_count]  # Get all mode grades\n",
    "\n",
    "# Mode\n",
    "print(f\"2c)Mode grade(s): {', '.join(map(str, modes))}\")\n",
    "\n",
    "# Step 3-> Print the mode(s) and the student(s) who received them separately\n",
    "for mode_grade in modes:\n",
    "    print(f\"2c)Grade: {mode_grade}, received by: {', '.join(mode_students[mode_grade])}\")\n",
    "    \n",
    "\n",
    "\n"
   ]
  },
  {
   "cell_type": "markdown",
   "metadata": {},
   "source": [
    "---\n",
    "### ( 3 ) Given the following dictionary of people and their ages, concatenate the age and name like below. Then print the new strings in descending order by age. [1 point]\n",
    "- <i>value-key, for instance:</i>\n",
    "    - '30-Harry'\n",
    "    - '22-Berry'\n",
    "    - ...\n",
    "    - '22-Nikhil'\n",
    "\n",
    "\n",
    "##### [1 point]"
   ]
  },
  {
   "cell_type": "code",
   "execution_count": 54,
   "metadata": {
    "tags": []
   },
   "outputs": [
    {
     "name": "stdout",
     "output_type": "stream",
     "text": [
      "Harsh: 61\n",
      "Geeta: 55\n",
      "Ben: 47\n",
      "Lilly: 44\n",
      "Juan: 41\n",
      "Tao: 39\n",
      "Marta: 33\n",
      "Akriti: 32\n",
      "Belle: 32\n",
      "Harry: 30\n",
      "Miguel: 29\n",
      "Ashley: 29\n",
      "Kelly: 27\n",
      "Tina: 25\n",
      "Albert: 23\n",
      "Berry: 22\n",
      "Nikhil: 22\n",
      "Jackson: 19\n",
      "Watson: 19\n",
      "Freddy: 18\n"
     ]
    }
   ],
   "source": [
    "# Enter your code here, printing relevant answers to console:\n",
    "\n",
    "age_dict = {'Harry': 30,\n",
    "          'Berry': 22,\n",
    "          'Tina': 25,\n",
    "          'Akriti': 32,\n",
    "          'Harsh': 61,\n",
    "          'Ben': 47,\n",
    "          'Geeta': 55,\n",
    "          'Tao': 39,\n",
    "          'Kelly': 27,\n",
    "          'Miguel': 29,\n",
    "          'Ashley': 29,\n",
    "          'Marta': 33,\n",
    "          'Jackson': 19,\n",
    "          'Freddy': 18,\n",
    "          'Lilly': 44,\n",
    "          'Albert': 23,\n",
    "          'Watson': 19,\n",
    "          'Juan': 41,\n",
    "          'Belle': 32,\n",
    "          'Nikhil': 22,}\n",
    "\n",
    "# Step 1-> Create a list of strings where each string is \"Name: Age\"\n",
    "name_age_list = [f\"{name}: {age}\" for name, age in age_dict.items()]\n",
    "\n",
    "# Step 2-> Sort the list in descending order by age\n",
    "name_age_list_sorted = sorted(name_age_list, key=lambda x: int(x.split(\": \")[1]), reverse=True)\n",
    "\n",
    "# Step 3-> Print the sorted list\n",
    "for item in name_age_list_sorted:\n",
    "    print(item)"
   ]
  },
  {
   "cell_type": "markdown",
   "metadata": {},
   "source": [
    "### ( 4 ) Using either a loop or a list comprehension - write a program which generates the first 20 even squares. [1 point]\n",
    "\n",
    "- An even number is evenly divisible by 2 (i.e. with remainder 0)\n",
    "- A square is a value which is yielded when it's square-root is multiplied by itself:\n",
    "    - 4 is a square since it's equal to 2*2\n",
    "    - 9 is a square since it's equal to 3*3\n",
    "        - However, 9 is not even and should not be printed.\n",
    "- Zero (0) <u>should not</u> be considered an even square\n",
    "       \n",
    "\n",
    "##### [1 point]"
   ]
  },
  {
   "cell_type": "code",
   "execution_count": 55,
   "metadata": {
    "tags": []
   },
   "outputs": [
    {
     "name": "stdout",
     "output_type": "stream",
     "text": [
      "Using List Comprehension Method [4, 16, 36, 64, 100, 144, 196, 256, 324, 400, 484, 576, 676, 784, 900, 1024, 1156, 1296, 1444, 1600]\n",
      "\n",
      "Using For Loop: [4, 16, 36, 64, 100, 144, 196, 256, 324, 400, 484, 576, 676, 784, 900, 1024, 1156, 1296, 1444, 1600]\n"
     ]
    }
   ],
   "source": [
    "# Enter your code here, printing relevant answers to console:\n",
    "\n",
    "# Using list comprehension to generate squares of the first 20 even numbers\n",
    "even_squares = [(2*n)**2 for n in range(1, 21)]\n",
    "\n",
    "# Print the first 20 even squares\n",
    "print(f\"Using List Comprehension Method {even_squares}\")\n",
    "\n",
    "print()\n",
    "\n",
    "# Initialize an empty list to store even squares\n",
    "even_squares = []\n",
    "\n",
    "# Use a for loop to iterate through the first 20 even numbers\n",
    "for n in range(1, 21):\n",
    "    square = (2 * n) ** 2  # Square of even numbers (2 * n)\n",
    "    even_squares.append(square)\n",
    "\n",
    "# Print the first 20 even squares\n",
    "print(f\"Using For Loop: {even_squares}\")"
   ]
  },
  {
   "cell_type": "markdown",
   "metadata": {},
   "source": [
    "### ( 5 ) Print the following summary statistics from the dictionary of animals in a zoo. [1 point]\n",
    "##### NOTE: key = specie : value = number of animals in zoe\n",
    "- The number of distict specie\n",
    "- The total number of animals\n",
    "- The specie(s) with the most members\n",
    "- The specie(s) with the least members\n",
    "- The average number of animals/specie\n",
    "\n",
    "##### [1 point]"
   ]
  },
  {
   "cell_type": "code",
   "execution_count": 56,
   "metadata": {
    "tags": []
   },
   "outputs": [
    {
     "name": "stdout",
     "output_type": "stream",
     "text": [
      "Number of distinct species: 13\n",
      "Total number of animals: 109\n",
      "Species with the most members: crocodile, anaconda (25)\n",
      "Species with the least members: hippopotamus, leopard (1)\n",
      "Average number of animals per species: 8.38\n"
     ]
    }
   ],
   "source": [
    "zoo_animals = {'giraffe':3,\n",
    "              'elephant':4,\n",
    "              'lion':9,\n",
    "              'hippopotamus':1,\n",
    "              'crocodile':25,\n",
    "              'wild dog':5,\n",
    "              'hyena':10,\n",
    "              'zebra':9,\n",
    "              'anaconda':25,\n",
    "              'python':5,\n",
    "              'kangaroo':10,\n",
    "              'cheetah':2,\n",
    "              'leopard':1}\n",
    "\n",
    "# 1. The number of distinct species (keys in the dictionary)\n",
    "num_species = len(zoo_animals)\n",
    "\n",
    "# Initialize variables for max, min, and total\n",
    "max_animals = -1  # Start with a very small value to ensure the first comparison works\n",
    "min_animals = float('inf')  # Start with a very large value for min comparison\n",
    "total_animals = 0\n",
    "\n",
    "# Initialize lists to store species with max and min number of animals\n",
    "species_with_most = []\n",
    "species_with_min = []\n",
    "\n",
    "# Loop through the zoo_animals dictionary to find max, min, and calculate total animals\n",
    "for animal, num in zoo_animals.items():\n",
    "    # 2. The total number of animals\n",
    "    total_animals += num\n",
    "\n",
    "    # Check for species with maximum members\n",
    "    if num > max_animals:\n",
    "        max_animals = num\n",
    "        species_with_most = [animal]  # Reset list with the new animal\n",
    "    elif num == max_animals:\n",
    "        species_with_most.append(animal)  # Add to list if animal equals max\n",
    "\n",
    "    # Check for species with least members\n",
    "    if num < min_animals:\n",
    "        min_animals = num\n",
    "        species_with_min = [animal]  # Reset list with the new min animal\n",
    "    elif num == min_animals:\n",
    "        species_with_min.append(animal)  # Add to list if animal equals min\n",
    "\n",
    "# 5. The average number of animals per species\n",
    "average_animals = total_animals / num_species\n",
    "\n",
    "# Printing the results\n",
    "print(f\"Number of distinct species: {num_species}\")\n",
    "print(f\"Total number of animals: {total_animals}\")\n",
    "print(f\"Species with the most members: {', '.join(species_with_most)} ({max_animals})\")\n",
    "print(f\"Species with the least members: {', '.join(species_with_min)} ({min_animals})\")\n",
    "print(f\"Average number of animals per species: {average_animals:.2f}\")"
   ]
  },
  {
   "cell_type": "code",
   "execution_count": null,
   "metadata": {},
   "outputs": [],
   "source": []
  }
 ],
 "metadata": {
  "kernelspec": {
   "display_name": "Python 3 (ipykernel)",
   "language": "python",
   "name": "python3"
  },
  "language_info": {
   "codemirror_mode": {
    "name": "ipython",
    "version": 3
   },
   "file_extension": ".py",
   "mimetype": "text/x-python",
   "name": "python",
   "nbconvert_exporter": "python",
   "pygments_lexer": "ipython3",
   "version": "3.11.7"
  }
 },
 "nbformat": 4,
 "nbformat_minor": 4
}
