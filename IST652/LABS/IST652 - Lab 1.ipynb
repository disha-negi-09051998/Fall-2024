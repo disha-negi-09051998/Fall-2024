{
 "cells": [
  {
   "cell_type": "markdown",
   "metadata": {},
   "source": [
    "# IST 652 Lab #1\n",
    "### Instructions\n",
    "- Complete all 5 questions in this assignment.\n",
    "- It is always better to attempt a problem as partial credit may be granted.\n",
    "\n",
    "### Submission Guide:\n",
    "- Submit your answers on BlackBoard by the start of next class. \n",
    "- The file must be .ipynb file type.\n",
    "- The name of the file should be <i> ist652_lab1_lastname.ipynb </i> .\n",
    "\n",
    "\n",
    "### Grading [ 5 total points ]\n",
    "For Each Question, the following credit will be awarded:\n",
    "- 0.75 for printing the correct answer to the console.\n",
    "- 0.15 for approaching the problem efficiently.\n",
    "- 0.10 for properly documenting and commenting your code."
   ]
  },
  {
   "cell_type": "markdown",
   "metadata": {},
   "source": [
    "---\n",
    "### Questions"
   ]
  },
  {
   "cell_type": "markdown",
   "metadata": {},
   "source": [
    "#### ( 1 ) Write the following code and return <i>x</i> using the print function. What does it return and why?\n",
    "- x = 11110\n",
    "- x = x+1\n",
    "\n",
    "##### [1 point]"
   ]
  },
  {
   "cell_type": "code",
   "execution_count": 5,
   "metadata": {},
   "outputs": [
    {
     "data": {
      "text/plain": [
       "11111"
      ]
     },
     "execution_count": 5,
     "metadata": {},
     "output_type": "execute_result"
    }
   ],
   "source": [
    "# Enter your code here, printing relevant answers to console:"
   ]
  },
  {
   "cell_type": "markdown",
   "metadata": {},
   "source": [
    "----\n",
    "#### ( 2 ) Assume that we execute the following assignment statements:\n",
    "- width = 17\n",
    "- height = 12.0\n",
    "\n",
    "#### For each of the following expressions, print the value of the expression and its data type.\n",
    "-  width / 2\n",
    "-  width / 2.0\n",
    "-  height * 2\n",
    "-  height / 2.0\n",
    "-  width / height\n",
    "\n",
    "\n",
    "##### [1 point]"
   ]
  },
  {
   "cell_type": "code",
   "execution_count": 3,
   "metadata": {},
   "outputs": [],
   "source": [
    "# Enter your code here, printing relevant answers to console:"
   ]
  },
  {
   "cell_type": "markdown",
   "metadata": {},
   "source": [
    "---\n",
    "#### ( 3 ) Write a sequence of statements which <u><i>prompt</i></u> the user for hours and rate per hour, printing each one, and then to computing gross pay as:\n",
    "- ( hours * rate )\n",
    "\n",
    "#### Your output lines should look something like:\n",
    "- Enter Hours: 35\n",
    "- Enter Rate: 2.75\n",
    "- Pay: 96.25\n",
    "\n",
    "\n",
    "##### [1 point]"
   ]
  },
  {
   "cell_type": "code",
   "execution_count": 3,
   "metadata": {},
   "outputs": [],
   "source": [
    "# Enter your code here, printing relevant answers to console:"
   ]
  },
  {
   "cell_type": "markdown",
   "metadata": {},
   "source": [
    "#### ( 4 ) Rewrite your pay computation <i><u>(#3)</u></i> to give the employee 1.5 times the hourly rate for hours worked above 40 hours.\n",
    "#### For example:\n",
    "- Hours: 45\n",
    "- Rate: 10\n",
    "- Pay: 475.0\n",
    "\n",
    "\n",
    "##### [1 point]"
   ]
  },
  {
   "cell_type": "code",
   "execution_count": 4,
   "metadata": {},
   "outputs": [],
   "source": [
    "# Enter your code here, printing relevant answers to console:"
   ]
  },
  {
   "cell_type": "markdown",
   "metadata": {},
   "source": [
    "---\n",
    "\n",
    "#### ( 5 ) (a) Suppose that there is a list of strings defined, called samples. Define the list so that some strings have only 1 or 2 characters and some strings have more.  Write a loop that prints out all the strings whose length is greater than 2. \n",
    "\n",
    "Make up a list then write your loop to use the list samples, for example:\n",
    "\n",
    "   <i> samples = [‘at’, ‘bat’, ‘c’, . . . .  ]  </i>\n",
    "\n",
    "Submit your list, your code and an example run.\n",
    "\n",
    "\n",
    "##### [0.5 point]"
   ]
  },
  {
   "cell_type": "code",
   "execution_count": 6,
   "metadata": {},
   "outputs": [],
   "source": [
    "# Enter your code here, printing relevant answers to console:"
   ]
  },
  {
   "cell_type": "markdown",
   "metadata": {},
   "source": [
    "#### ( b ) Again suppose that there is a list of strings defined, called samples.  Define the list so that some strings have only 1 or 2 characters and some strings have <u>more than 5.</u>  Write a loop that prints out all the strings whose length is greater than 2 and whose length is less than 5. \n",
    "\n",
    "Make up a list then write your loop to use the list samples. For example:\n",
    "\n",
    "<i>samples = [‘at’, ‘book’, ‘c’, ‘dog’, ‘elephant’, . . .  ]</i>\n",
    "\n",
    "Submit your list, your code and an example run.\n",
    "\n",
    "\n",
    "##### [0.5 point]"
   ]
  },
  {
   "cell_type": "code",
   "execution_count": 5,
   "metadata": {},
   "outputs": [],
   "source": [
    "# Enter your code here, printing relevant answers to console:"
   ]
  }
 ],
 "metadata": {
  "kernelspec": {
   "display_name": "Python 3 (ipykernel)",
   "language": "python",
   "name": "python3"
  },
  "language_info": {
   "codemirror_mode": {
    "name": "ipython",
    "version": 3
   },
   "file_extension": ".py",
   "mimetype": "text/x-python",
   "name": "python",
   "nbconvert_exporter": "python",
   "pygments_lexer": "ipython3",
   "version": "3.11.3"
  }
 },
 "nbformat": 4,
 "nbformat_minor": 4
}
