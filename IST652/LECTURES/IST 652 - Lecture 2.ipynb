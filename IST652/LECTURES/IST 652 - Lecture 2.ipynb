{
 "cells": [
  {
   "cell_type": "markdown",
   "metadata": {},
   "source": [
    "# IST 652 - Lecture 2"
   ]
  },
  {
   "cell_type": "markdown",
   "metadata": {},
   "source": [
    "![intro](img/welcometopython.png)"
   ]
  },
  {
   "cell_type": "markdown",
   "metadata": {},
   "source": [
    "## Revisit:\n",
    "    - Variables\n",
    "    - Numbers\n",
    "    - Strings\n",
    "    \n",
    "    \n",
    "## Explore:\n",
    "    - Booleans\n",
    "    - Conditionals\n",
    "    - Lists\n",
    "    - Loops"
   ]
  },
  {
   "cell_type": "markdown",
   "metadata": {},
   "source": [
    "## What are two number types in python?"
   ]
  },
  {
   "cell_type": "code",
   "execution_count": 1,
   "metadata": {},
   "outputs": [
    {
     "name": "stdout",
     "output_type": "stream",
     "text": [
      "2\n",
      "<class 'int'>\n"
     ]
    }
   ],
   "source": [
    "# What data type is 2?\n",
    "print(2)\n",
    "print(type(2))"
   ]
  },
  {
   "cell_type": "code",
   "execution_count": 2,
   "metadata": {},
   "outputs": [
    {
     "name": "stdout",
     "output_type": "stream",
     "text": [
      "2.0\n",
      "<class 'float'>\n"
     ]
    }
   ],
   "source": [
    "# What data type is 2.0?\n",
    "z = 2.0\n",
    "print(z)\n",
    "\n",
    "print(type(z))"
   ]
  },
  {
   "cell_type": "code",
   "execution_count": 3,
   "metadata": {},
   "outputs": [
    {
     "name": "stdout",
     "output_type": "stream",
     "text": [
      "z is data type: <class 'float'>\n"
     ]
    }
   ],
   "source": [
    "# Let's print teh statement: \"z is data type: ...\"\n",
    "print(\"z is data type:\", type(z))"
   ]
  },
  {
   "cell_type": "markdown",
   "metadata": {},
   "source": [
    "### PEMDAS!!\n",
    "- Python (and all programming languages) follow mathematical order of operations"
   ]
  },
  {
   "cell_type": "markdown",
   "metadata": {},
   "source": [
    "![pemdas](img/pemdas.png)"
   ]
  },
  {
   "cell_type": "code",
   "execution_count": 4,
   "metadata": {},
   "outputs": [],
   "source": [
    "x = 4\n",
    "y = 5\n",
    "z = 6"
   ]
  },
  {
   "cell_type": "code",
   "execution_count": 5,
   "metadata": {},
   "outputs": [
    {
     "name": "stdout",
     "output_type": "stream",
     "text": [
      "34\n",
      "34\n",
      "54\n",
      "-26\n",
      "-26\n",
      "-6\n"
     ]
    }
   ],
   "source": [
    "\n",
    "print(x+y*z)\n",
    "print(x+(y*z))\n",
    "print((x+y)*z)\n",
    "\n",
    "print(x-y*z)\n",
    "print(x-(y*z))\n",
    "print((x-y)*z)"
   ]
  },
  {
   "cell_type": "markdown",
   "metadata": {},
   "source": [
    "### Special Numeric Operators\n",
    "    exponents >>> x**2\n",
    "    floor division >>> x//2 (i.e. division without remainder)\n",
    "    modulo operator >>> x%2 (i.e. division yielding only the remainder)\n",
    "    modulo operator >>> x%2 (i.e. division yielding only the remainder)\n",
    "    \n",
    "##### For additional math functions check out the math library. e.g.:\n",
    "    - math.log()\n",
    "    - math.sin(), math.cos(), math.tan()\n",
    "    - math.pi\n",
    "    - math.factorial"
   ]
  },
  {
   "cell_type": "code",
   "execution_count": 8,
   "metadata": {},
   "outputs": [
    {
     "name": "stdout",
     "output_type": "stream",
     "text": [
      "3\n",
      "1\n"
     ]
    }
   ],
   "source": [
    "x = 10\n",
    "x**4\n",
    "x//3\n",
    "x%3"
   ]
  },
  {
   "cell_type": "code",
   "execution_count": 9,
   "metadata": {},
   "outputs": [],
   "source": [
    "import math"
   ]
  },
  {
   "cell_type": "code",
   "execution_count": 16,
   "metadata": {},
   "outputs": [
    {
     "name": "stdout",
     "output_type": "stream",
     "text": [
      "\u001b[0;31mType:\u001b[0m        module\n",
      "\u001b[0;31mString form:\u001b[0m <module 'math' from '/Library/Frameworks/Python.framework/Versions/3.12/lib/python3.12/lib-dynload/math.cpython-312-darwin.so'>\n",
      "\u001b[0;31mFile:\u001b[0m        /Library/Frameworks/Python.framework/Versions/3.12/lib/python3.12/lib-dynload/math.cpython-312-darwin.so\n",
      "\u001b[0;31mDocstring:\u001b[0m  \n",
      "This module provides access to the mathematical functions\n",
      "defined by the C standard."
     ]
    }
   ],
   "source": [
    "#Need documentation about the module, try one question mark\n",
    "math?"
   ]
  },
  {
   "cell_type": "code",
   "execution_count": 17,
   "metadata": {},
   "outputs": [
    {
     "name": "stdout",
     "output_type": "stream",
     "text": [
      "3.141592653589793\n"
     ]
    }
   ],
   "source": [
    "print(math.pi)"
   ]
  },
  {
   "cell_type": "code",
   "execution_count": 19,
   "metadata": {},
   "outputs": [
    {
     "data": {
      "text/plain": [
       "1307674368000"
      ]
     },
     "execution_count": 19,
     "metadata": {},
     "output_type": "execute_result"
    }
   ],
   "source": [
    "math.factorial(15)"
   ]
  },
  {
   "cell_type": "code",
   "execution_count": 21,
   "metadata": {},
   "outputs": [],
   "source": [
    "#Want the full source code, try two question marks\n",
    "import os"
   ]
  },
  {
   "cell_type": "code",
   "execution_count": 23,
   "metadata": {},
   "outputs": [
    {
     "name": "stdout",
     "output_type": "stream",
     "text": [
      "\u001b[0;31mType:\u001b[0m        module\n",
      "\u001b[0;31mString form:\u001b[0m <module 'os' (frozen)>\n",
      "\u001b[0;31mFile:\u001b[0m        /Library/Frameworks/Python.framework/Versions/3.12/lib/python3.12/os.py\n",
      "\u001b[0;31mDocstring:\u001b[0m  \n",
      "OS routines for NT or Posix depending on what system we're on.\n",
      "\n",
      "This exports:\n",
      "  - all functions from posix or nt, e.g. unlink, stat, etc.\n",
      "  - os.path is either posixpath or ntpath\n",
      "  - os.name is either 'posix' or 'nt'\n",
      "  - os.curdir is a string representing the current directory (always '.')\n",
      "  - os.pardir is a string representing the parent directory (always '..')\n",
      "  - os.sep is the (or a most common) pathname separator ('/' or '\\\\')\n",
      "  - os.extsep is the extension separator (always '.')\n",
      "  - os.altsep is the alternate pathname separator (None or '/')\n",
      "  - os.pathsep is the component separator used in $PATH etc\n",
      "  - os.linesep is the line separator in text files ('\\r' or '\\n' or '\\r\\n')\n",
      "  - os.defpath is the default search path for executables\n",
      "  - os.devnull is the file path of the null device ('/dev/null', etc.)\n",
      "\n",
      "Programs that import and use 'os' stand a better chance of being\n",
      "portable between different platforms.  Of course, they must then\n",
      "only use functions that are defined by all platforms (e.g., unlink\n",
      "and opendir), and leave all pathname manipulation to os.path\n",
      "(e.g., split and join)."
     ]
    }
   ],
   "source": [
    "os?"
   ]
  },
  {
   "cell_type": "markdown",
   "metadata": {},
   "source": [
    "---\n",
    "# Strings"
   ]
  },
  {
   "cell_type": "code",
   "execution_count": 24,
   "metadata": {},
   "outputs": [],
   "source": [
    "# Sample String\n",
    "string = 'IST 652 is a great course offered in the iSchool'"
   ]
  },
  {
   "cell_type": "markdown",
   "metadata": {},
   "source": [
    "### How many characters does this string have?"
   ]
  },
  {
   "cell_type": "code",
   "execution_count": 25,
   "metadata": {},
   "outputs": [
    {
     "data": {
      "text/plain": [
       "48"
      ]
     },
     "execution_count": 25,
     "metadata": {},
     "output_type": "execute_result"
    }
   ],
   "source": [
    "len(string)"
   ]
  },
  {
   "cell_type": "markdown",
   "metadata": {},
   "source": [
    "### How do we return the same string, but lower case?"
   ]
  },
  {
   "cell_type": "code",
   "execution_count": 26,
   "metadata": {},
   "outputs": [
    {
     "name": "stdout",
     "output_type": "stream",
     "text": [
      "ist 652 is a great course offered in the ischool\n"
     ]
    }
   ],
   "source": [
    "print(string.lower())"
   ]
  },
  {
   "cell_type": "markdown",
   "metadata": {},
   "source": [
    "### And upper case?"
   ]
  },
  {
   "cell_type": "code",
   "execution_count": 27,
   "metadata": {},
   "outputs": [
    {
     "name": "stdout",
     "output_type": "stream",
     "text": [
      "IST 652 IS A GREAT COURSE OFFERED IN THE ISCHOOL\n"
     ]
    }
   ],
   "source": [
    "print(string.upper())"
   ]
  },
  {
   "cell_type": "markdown",
   "metadata": {},
   "source": [
    "### How about we concatenate with another string..."
   ]
  },
  {
   "cell_type": "code",
   "execution_count": 28,
   "metadata": {},
   "outputs": [
    {
     "name": "stdout",
     "output_type": "stream",
     "text": [
      "IST 652 is a great course offered in the iSchool taught by Hernando Hoyos\n"
     ]
    }
   ],
   "source": [
    "string2 = \"taught by Hernando Hoyos\"\n",
    "# Concatenate here:\n",
    "print(string, string2)"
   ]
  },
  {
   "cell_type": "markdown",
   "metadata": {},
   "source": [
    "----"
   ]
  },
  {
   "cell_type": "markdown",
   "metadata": {},
   "source": [
    "### Strings are a collection of values (characters) which are indexed!\n",
    "#### <span style=\"color:red\">IMPORTANT: Indexing BEGINS at **0** !</span>\n",
    "![pemdas](img/pythonstring.png)"
   ]
  },
  {
   "cell_type": "markdown",
   "metadata": {},
   "source": [
    "### Select the First Character..."
   ]
  },
  {
   "cell_type": "code",
   "execution_count": 29,
   "metadata": {},
   "outputs": [
    {
     "data": {
      "text/plain": [
       "'P'"
      ]
     },
     "execution_count": 29,
     "metadata": {},
     "output_type": "execute_result"
    }
   ],
   "source": [
    "'Python'[0]"
   ]
  },
  {
   "cell_type": "code",
   "execution_count": 30,
   "metadata": {},
   "outputs": [
    {
     "data": {
      "text/plain": [
       "'P'"
      ]
     },
     "execution_count": 30,
     "metadata": {},
     "output_type": "execute_result"
    }
   ],
   "source": [
    "'Python'[-6]"
   ]
  },
  {
   "cell_type": "markdown",
   "metadata": {},
   "source": [
    "### Select second character..."
   ]
  },
  {
   "cell_type": "code",
   "execution_count": 31,
   "metadata": {},
   "outputs": [
    {
     "data": {
      "text/plain": [
       "'y'"
      ]
     },
     "execution_count": 31,
     "metadata": {},
     "output_type": "execute_result"
    }
   ],
   "source": [
    "py_string = 'Python'\n",
    "py_string[-5]"
   ]
  },
  {
   "cell_type": "code",
   "execution_count": 32,
   "metadata": {},
   "outputs": [
    {
     "data": {
      "text/plain": [
       "'y'"
      ]
     },
     "execution_count": 32,
     "metadata": {},
     "output_type": "execute_result"
    }
   ],
   "source": [
    "py_string[1]"
   ]
  },
  {
   "cell_type": "markdown",
   "metadata": {},
   "source": [
    "### Select the last character..."
   ]
  },
  {
   "cell_type": "code",
   "execution_count": 33,
   "metadata": {},
   "outputs": [
    {
     "data": {
      "text/plain": [
       "6"
      ]
     },
     "execution_count": 33,
     "metadata": {},
     "output_type": "execute_result"
    }
   ],
   "source": [
    "len(py_string)"
   ]
  },
  {
   "cell_type": "code",
   "execution_count": 34,
   "metadata": {},
   "outputs": [
    {
     "data": {
      "text/plain": [
       "'n'"
      ]
     },
     "execution_count": 34,
     "metadata": {},
     "output_type": "execute_result"
    }
   ],
   "source": [
    "py_string[5]"
   ]
  },
  {
   "cell_type": "markdown",
   "metadata": {},
   "source": [
    "### Select the second to last character..."
   ]
  },
  {
   "cell_type": "code",
   "execution_count": 35,
   "metadata": {},
   "outputs": [
    {
     "data": {
      "text/plain": [
       "'o'"
      ]
     },
     "execution_count": 35,
     "metadata": {},
     "output_type": "execute_result"
    }
   ],
   "source": [
    "py_string[4]"
   ]
  },
  {
   "cell_type": "markdown",
   "metadata": {},
   "source": [
    "### Select the first through third character..."
   ]
  },
  {
   "cell_type": "code",
   "execution_count": 39,
   "metadata": {},
   "outputs": [
    {
     "data": {
      "text/plain": [
       "''"
      ]
     },
     "execution_count": 39,
     "metadata": {},
     "output_type": "execute_result"
    }
   ],
   "source": [
    "py_string[0:3]\n",
    "# 2nd index is non-inclusive\n",
    "py_string[-3:-6]\n",
    "# Now, try selecting everything up to through third character"
   ]
  },
  {
   "cell_type": "markdown",
   "metadata": {},
   "source": [
    "### From the reading....Asking for User Input\n",
    "### Let's ask the user where they are from"
   ]
  },
  {
   "cell_type": "code",
   "execution_count": 41,
   "metadata": {},
   "outputs": [],
   "source": [
    "origin = ''\n",
    "origin = input('Where are you from?')"
   ]
  },
  {
   "cell_type": "code",
   "execution_count": 43,
   "metadata": {},
   "outputs": [
    {
     "name": "stdout",
     "output_type": "stream",
     "text": [
      "India\n"
     ]
    }
   ],
   "source": [
    "print(origin)"
   ]
  },
  {
   "cell_type": "markdown",
   "metadata": {},
   "source": [
    "### <span style=\"color:red\">NOTE: This is on your first lab ^^</span>"
   ]
  },
  {
   "cell_type": "markdown",
   "metadata": {},
   "source": [
    "---"
   ]
  },
  {
   "cell_type": "markdown",
   "metadata": {},
   "source": [
    "<h2>Can anyone name this famous mathematician?</h2>"
   ]
  },
  {
   "cell_type": "markdown",
   "metadata": {},
   "source": [
    "![GeorgeBool](img/boole.png)"
   ]
  },
  {
   "cell_type": "markdown",
   "metadata": {},
   "source": [
    "<h3>\n",
    "Born on 1815 in Lincoln, England\n",
    "</br>\n",
    "</br>\n",
    "Died on December 8, 1864\n",
    "</h3>"
   ]
  },
  {
   "cell_type": "code",
   "execution_count": null,
   "metadata": {},
   "outputs": [],
   "source": []
  },
  {
   "cell_type": "code",
   "execution_count": null,
   "metadata": {},
   "outputs": [],
   "source": []
  },
  {
   "cell_type": "markdown",
   "metadata": {},
   "source": [
    "<h3>George Boole</h3>"
   ]
  },
  {
   "cell_type": "markdown",
   "metadata": {},
   "source": [
    "# Boolean Operations"
   ]
  },
  {
   "cell_type": "markdown",
   "metadata": {},
   "source": [
    "##### George Boole\n",
    "\n",
    "His legacy is Boolean logic, a theory of mathematics in which all variables are either \"true\" or \"false\", or \"on\" or \"off\". The theory preceded the digital age, with American Claude Shannon applying Boolean logic to build the electrical circuits in the 1930s that led to modern computers.\n",
    "- <i>The Daily Telegraph, 11-02-15, James Titcomb</i>\n",
    "- <i>https://www.telegraph.co.uk/technology/google/google-doodle/11968997/george-boole-google-doodle.html</i>"
   ]
  },
  {
   "cell_type": "markdown",
   "metadata": {},
   "source": [
    "#### Boolean is a data type in python and encompasses two values: True and False"
   ]
  },
  {
   "cell_type": "code",
   "execution_count": 44,
   "metadata": {},
   "outputs": [
    {
     "name": "stdout",
     "output_type": "stream",
     "text": [
      "True is type: <class 'bool'>\n",
      "False is type: <class 'bool'>\n"
     ]
    }
   ],
   "source": [
    "print('True is type: '+str(type(True)))\n",
    "print('False is type: '+str(type(False)))"
   ]
  },
  {
   "cell_type": "markdown",
   "metadata": {},
   "source": [
    "### We can use expressions with comparison operators to compute these values."
   ]
  },
  {
   "cell_type": "markdown",
   "metadata": {},
   "source": [
    "#### (1) Equality: =="
   ]
  },
  {
   "cell_type": "code",
   "execution_count": 45,
   "metadata": {},
   "outputs": [
    {
     "data": {
      "text/plain": [
       "True"
      ]
     },
     "execution_count": 45,
     "metadata": {},
     "output_type": "execute_result"
    }
   ],
   "source": [
    "x = 10\n",
    "x == 10.0"
   ]
  },
  {
   "cell_type": "markdown",
   "metadata": {},
   "source": [
    "#### ^^ Notice the difference between the assignment opeator ( = ) and the equality opertor ( == ) \n",
    "---"
   ]
  },
  {
   "cell_type": "code",
   "execution_count": 46,
   "metadata": {},
   "outputs": [
    {
     "data": {
      "text/plain": [
       "False"
      ]
     },
     "execution_count": 46,
     "metadata": {},
     "output_type": "execute_result"
    }
   ],
   "source": [
    "x == 9"
   ]
  },
  {
   "cell_type": "code",
   "execution_count": 47,
   "metadata": {},
   "outputs": [
    {
     "data": {
      "text/plain": [
       "True"
      ]
     },
     "execution_count": 47,
     "metadata": {},
     "output_type": "execute_result"
    }
   ],
   "source": [
    "val = 'Abc'\n",
    "val == 'Abc'"
   ]
  },
  {
   "cell_type": "code",
   "execution_count": 48,
   "metadata": {},
   "outputs": [
    {
     "data": {
      "text/plain": [
       "False"
      ]
     },
     "execution_count": 48,
     "metadata": {},
     "output_type": "execute_result"
    }
   ],
   "source": [
    "# Do we think that this will be True or False?\n",
    "# i.e. Is Python case sensitive?\n",
    "val == 'abc'"
   ]
  },
  {
   "cell_type": "code",
   "execution_count": 49,
   "metadata": {},
   "outputs": [
    {
     "data": {
      "text/plain": [
       "True"
      ]
     },
     "execution_count": 49,
     "metadata": {},
     "output_type": "execute_result"
    }
   ],
   "source": [
    "# recall the the string method upper? Let's see if we can't python at it's own game?!\n",
    "val.lower() == 'abc'"
   ]
  },
  {
   "cell_type": "code",
   "execution_count": 50,
   "metadata": {},
   "outputs": [
    {
     "data": {
      "text/plain": [
       "True"
      ]
     },
     "execution_count": 50,
     "metadata": {},
     "output_type": "execute_result"
    }
   ],
   "source": [
    "val.upper() == 'abc'.upper()"
   ]
  },
  {
   "cell_type": "markdown",
   "metadata": {},
   "source": [
    "#### (2) Nonequality: !="
   ]
  },
  {
   "cell_type": "code",
   "execution_count": 51,
   "metadata": {},
   "outputs": [
    {
     "data": {
      "text/plain": [
       "False"
      ]
     },
     "execution_count": 51,
     "metadata": {},
     "output_type": "execute_result"
    }
   ],
   "source": [
    "val = 'Abc'\n",
    "val != 'Abc'"
   ]
  },
  {
   "cell_type": "code",
   "execution_count": 52,
   "metadata": {},
   "outputs": [
    {
     "data": {
      "text/plain": [
       "True"
      ]
     },
     "execution_count": 52,
     "metadata": {},
     "output_type": "execute_result"
    }
   ],
   "source": [
    "val != 'abc'"
   ]
  },
  {
   "cell_type": "markdown",
   "metadata": {},
   "source": [
    "#### (3) Inequality:\n",
    "    >\n",
    "    <\n",
    "    >=\n",
    "    <=\n",
    "    \n",
    "- Numeric Comparison: traditional magnitudinal truth\n",
    "- String Comparison: alphebatic ordering"
   ]
  },
  {
   "cell_type": "code",
   "execution_count": 53,
   "metadata": {},
   "outputs": [
    {
     "data": {
      "text/plain": [
       "True"
      ]
     },
     "execution_count": 53,
     "metadata": {},
     "output_type": "execute_result"
    }
   ],
   "source": [
    "5<10"
   ]
  },
  {
   "cell_type": "code",
   "execution_count": 54,
   "metadata": {},
   "outputs": [
    {
     "data": {
      "text/plain": [
       "False"
      ]
     },
     "execution_count": 54,
     "metadata": {},
     "output_type": "execute_result"
    }
   ],
   "source": [
    "'abc' > 'xyz'"
   ]
  },
  {
   "cell_type": "code",
   "execution_count": 55,
   "metadata": {},
   "outputs": [
    {
     "data": {
      "text/plain": [
       "False"
      ]
     },
     "execution_count": 55,
     "metadata": {},
     "output_type": "execute_result"
    }
   ],
   "source": [
    "'abc' >= 'xyz'"
   ]
  },
  {
   "cell_type": "code",
   "execution_count": 56,
   "metadata": {},
   "outputs": [
    {
     "data": {
      "text/plain": [
       "True"
      ]
     },
     "execution_count": 56,
     "metadata": {},
     "output_type": "execute_result"
    }
   ],
   "source": [
    "'abc' < 'xyz'"
   ]
  },
  {
   "cell_type": "code",
   "execution_count": 57,
   "metadata": {},
   "outputs": [
    {
     "data": {
      "text/plain": [
       "True"
      ]
     },
     "execution_count": 57,
     "metadata": {},
     "output_type": "execute_result"
    }
   ],
   "source": [
    "'abc' <= 'xyz'"
   ]
  },
  {
   "cell_type": "code",
   "execution_count": 58,
   "metadata": {},
   "outputs": [
    {
     "data": {
      "text/plain": [
       "False"
      ]
     },
     "execution_count": 58,
     "metadata": {},
     "output_type": "execute_result"
    }
   ],
   "source": [
    "'xyz' < 'xyz'"
   ]
  },
  {
   "cell_type": "code",
   "execution_count": 59,
   "metadata": {},
   "outputs": [
    {
     "data": {
      "text/plain": [
       "True"
      ]
     },
     "execution_count": 59,
     "metadata": {},
     "output_type": "execute_result"
    }
   ],
   "source": [
    "'XYZ' < 'abc'\n",
    "# characters are sorted alphabetically starting with special characters ($,@,#),\n",
    "# followed by CAPITALIZED letters, then lowercase"
   ]
  },
  {
   "cell_type": "markdown",
   "metadata": {},
   "source": [
    "#### (4) Chaining Equality"
   ]
  },
  {
   "cell_type": "markdown",
   "metadata": {},
   "source": [
    "You can combine Boolean expressions with the logical operations, which in Python, the logical operators are just given their English names:\n",
    "- <b>and\n",
    "- or\n",
    "- not</b>\n"
   ]
  },
  {
   "cell_type": "code",
   "execution_count": 60,
   "metadata": {},
   "outputs": [],
   "source": [
    "num1 = 5"
   ]
  },
  {
   "cell_type": "code",
   "execution_count": 61,
   "metadata": {},
   "outputs": [
    {
     "data": {
      "text/plain": [
       "True"
      ]
     },
     "execution_count": 61,
     "metadata": {},
     "output_type": "execute_result"
    }
   ],
   "source": [
    "(num1 >= 0) and (num1 < 10)"
   ]
  },
  {
   "cell_type": "code",
   "execution_count": 62,
   "metadata": {},
   "outputs": [
    {
     "data": {
      "text/plain": [
       "False"
      ]
     },
     "execution_count": 62,
     "metadata": {},
     "output_type": "execute_result"
    }
   ],
   "source": [
    "(num1 >= 0) and (num1 < 4)"
   ]
  },
  {
   "cell_type": "code",
   "execution_count": 63,
   "metadata": {},
   "outputs": [
    {
     "data": {
      "text/plain": [
       "False"
      ]
     },
     "execution_count": 63,
     "metadata": {},
     "output_type": "execute_result"
    }
   ],
   "source": [
    "(num1 >= 0) and not(num1 < 10)\n",
    "\n",
    "#NOTE: not flips the boolean sign (True >> False or False >> True)"
   ]
  },
  {
   "cell_type": "markdown",
   "metadata": {},
   "source": [
    "---"
   ]
  },
  {
   "cell_type": "markdown",
   "metadata": {},
   "source": [
    "# Conditional Statements"
   ]
  },
  {
   "cell_type": "markdown",
   "metadata": {},
   "source": [
    "Conditional statements are also known as “if-then” statements or “if-then-else” statements.  Conditional statements give us the ability to check some condition (which will have value True or False) and give a statement or statements that will only be executed in the condition is True.  We can also optionally give a statement or statements to be executed in the condition is False."
   ]
  },
  {
   "cell_type": "markdown",
   "metadata": {},
   "source": [
    "The start of a conditional statement is the keyword “if” followed by a Boolean conditional expression.  To show the statements that will be executed when the condition is true, we give them as a separate “block”, an inner part of the statement.\n",
    "- <b>NOTE:</b> In some languages, this part uses the “then” keyword, hence the alternate name.\n",
    "\n",
    "\n",
    "<b>In Python</b>, the conditional is a multi-line statement, and we show multi-line statements with the initial line ending in a <b>:</b>, and any inner block <u>should</u> be indented:\n",
    "- 4 spaces\n",
    "- 1 tab"
   ]
  },
  {
   "cell_type": "code",
   "execution_count": 64,
   "metadata": {},
   "outputs": [
    {
     "name": "stdout",
     "output_type": "stream",
     "text": [
      "1:\n",
      "10\n",
      "\n",
      "\n",
      "2:\n"
     ]
    }
   ],
   "source": [
    "print(str(1)+':')\n",
    "x = 10\n",
    "\n",
    "if x <= 10 and x> 2:\n",
    "    print(x) # notice the indent - python identifies this as the block\n",
    "\n",
    "print('\\n')  # prints a line break  \n",
    "    \n",
    "print(str(2)+':')\n",
    "y = 11\n",
    "\n",
    "if y <= 10:\n",
    "    print(y)"
   ]
  },
  {
   "cell_type": "code",
   "execution_count": 65,
   "metadata": {},
   "outputs": [
    {
     "name": "stdout",
     "output_type": "stream",
     "text": [
      "num1 = 5\n",
      "num2 = 500\n"
     ]
    }
   ],
   "source": [
    "# if num1 is less than 10, then set num2 to be 100*num1, otherwise set them equal to each other.\n",
    "\n",
    "num1 = 5\n",
    "\n",
    "if (num1 < 10): # notice that you can wrap a logic statement in parenthesis. This helps with chaining conditions\n",
    "    num2 = num1 * 100\n",
    "elif (num1 > 10):\n",
    "    num2 = num1 / 100\n",
    "else: # notice else doesn't require a discrete condition, it's the garbage colector\n",
    "    num2 = num1\n",
    "\n",
    "\n",
    "print('num1 = '+str(num1))\n",
    "print('num2 = '+str(num2))"
   ]
  },
  {
   "cell_type": "markdown",
   "metadata": {},
   "source": [
    "#### What if there are more than two logical outcomes?"
   ]
  },
  {
   "cell_type": "code",
   "execution_count": 66,
   "metadata": {},
   "outputs": [
    {
     "name": "stdout",
     "output_type": "stream",
     "text": [
      "num1 = 5.0\n",
      "num2 = 500.0\n"
     ]
    }
   ],
   "source": [
    "# if num1 is less than 10, then set num2 to be num1*100\n",
    "# if num1 is greater than 10, then set num2 to be num1/100\n",
    "# otherwise set them equal to each other.\n",
    "\n",
    "num1 = float(input('Enter a number: '))\n",
    "\n",
    "if (num1 < 10):\n",
    "    num2 = num1 * 100\n",
    "elif (num1 > 10): #elif follows the same structure as if\n",
    "    num2 = num1 / 100\n",
    "else:\n",
    "    num2 = num1\n",
    "\n",
    "\n",
    "print('num1 = '+str(num1))\n",
    "print('num2 = '+str(num2))"
   ]
  },
  {
   "cell_type": "markdown",
   "metadata": {},
   "source": [
    "## Exercise 1"
   ]
  },
  {
   "cell_type": "code",
   "execution_count": 76,
   "metadata": {},
   "outputs": [
    {
     "name": "stdout",
     "output_type": "stream",
     "text": [
      "HEY\n",
      "Disha\n"
     ]
    }
   ],
   "source": [
    "#Define 2 variables that each contain a phrase.\n",
    "#One phrase should be all lower case, and the other should be mixed case. \n",
    "#Print the string in all caps if it is all lowercase characters. If not, simply print the phrase. \n",
    "#Test both phrases\n",
    "#Post your solution to blacboard\n",
    "a = \"hey\"\n",
    "b = \"Disha\"\n",
    "\n",
    "def small_fun(st):\n",
    "    if st.lower() == st:\n",
    "        print(st.upper())\n",
    "    else:\n",
    "        print(st)\n",
    "\n",
    "small_fun(a)\n",
    "small_fun(b)\n",
    "\n"
   ]
  },
  {
   "cell_type": "markdown",
   "metadata": {},
   "source": [
    "---"
   ]
  },
  {
   "cell_type": "markdown",
   "metadata": {},
   "source": [
    "# Data Type:  List"
   ]
  },
  {
   "cell_type": "markdown",
   "metadata": {},
   "source": [
    "The next data type that we will look at are lists.\n",
    "\n",
    "Like a string, a <b>list</b> is a sequence of values. In a string, the values are chracters while in a list a values can be any data type (i.e. str, float, int, bool, etc.).\n",
    "\n",
    "These list values are often called elements or items of a list"
   ]
  },
  {
   "cell_type": "markdown",
   "metadata": {},
   "source": [
    "There are several ways to construct a list, but the simplest is to enclode values in square brackets:"
   ]
  },
  {
   "cell_type": "code",
   "execution_count": 71,
   "metadata": {},
   "outputs": [],
   "source": [
    "myList1 = [1,2,3,None]\n",
    "# notice the None - this is a Nonetype data type. It's similar to a null value."
   ]
  },
  {
   "cell_type": "code",
   "execution_count": 70,
   "metadata": {},
   "outputs": [
    {
     "name": "stdout",
     "output_type": "stream",
     "text": [
      "[1, 2, 3, None]\n"
     ]
    }
   ],
   "source": [
    "print(myList1)"
   ]
  },
  {
   "cell_type": "code",
   "execution_count": 73,
   "metadata": {},
   "outputs": [],
   "source": [
    "myList2 = ['a','b','c','d']\n",
    "#this list has all the same types of data: str\n",
    "\n",
    "myList3 = [myList1, myList2]\n",
    "# this list has two elements, each of which is a list. This is refered to as being nested.\n",
    "\n",
    "myList4 = []\n",
    "# this is an empty list and it's useful as a placehold for adding things later (i.e. initializing a list)"
   ]
  },
  {
   "cell_type": "markdown",
   "metadata": {},
   "source": [
    "#### Recall indexing of strings, the same indexing and slicing work on strings!"
   ]
  },
  {
   "cell_type": "code",
   "execution_count": 74,
   "metadata": {},
   "outputs": [
    {
     "data": {
      "text/plain": [
       "1"
      ]
     },
     "execution_count": 74,
     "metadata": {},
     "output_type": "execute_result"
    }
   ],
   "source": [
    "# return the first element of myList1\n",
    "myList1[0]"
   ]
  },
  {
   "cell_type": "code",
   "execution_count": 75,
   "metadata": {},
   "outputs": [
    {
     "data": {
      "text/plain": [
       "[3, None]"
      ]
     },
     "execution_count": 75,
     "metadata": {},
     "output_type": "execute_result"
    }
   ],
   "source": [
    "# return the last 2 elements of myList2\n",
    "myList1[2:4]"
   ]
  },
  {
   "cell_type": "markdown",
   "metadata": {},
   "source": [
    "#### you can also fetch elements in nested lists"
   ]
  },
  {
   "cell_type": "code",
   "execution_count": 77,
   "metadata": {},
   "outputs": [
    {
     "data": {
      "text/plain": [
       "2"
      ]
     },
     "execution_count": 77,
     "metadata": {},
     "output_type": "execute_result"
    }
   ],
   "source": [
    "# What value the following code yield?\n",
    "myList3[0][1]"
   ]
  },
  {
   "cell_type": "code",
   "execution_count": 78,
   "metadata": {},
   "outputs": [
    {
     "data": {
      "text/plain": [
       "['b', 'c', 'd']"
      ]
     },
     "execution_count": 78,
     "metadata": {},
     "output_type": "execute_result"
    }
   ],
   "source": [
    "# And Here?\n",
    "myList3[1][1:]"
   ]
  },
  {
   "cell_type": "markdown",
   "metadata": {},
   "source": [
    "#### Adding and removing elements of a list"
   ]
  },
  {
   "cell_type": "code",
   "execution_count": 79,
   "metadata": {},
   "outputs": [
    {
     "name": "stdout",
     "output_type": "stream",
     "text": [
      "[[1, 2, 3, None], ['a', 'b', 'c', 'd'], 5]\n"
     ]
    }
   ],
   "source": [
    "myList3.append(5)\n",
    "print(myList3)"
   ]
  },
  {
   "cell_type": "code",
   "execution_count": 80,
   "metadata": {},
   "outputs": [
    {
     "data": {
      "text/plain": [
       "[[1, 2, 3, None], ['a', 'b', 'c', 'd']]"
      ]
     },
     "execution_count": 80,
     "metadata": {},
     "output_type": "execute_result"
    }
   ],
   "source": [
    "del myList3[-1]\n",
    "myList3"
   ]
  },
  {
   "cell_type": "markdown",
   "metadata": {},
   "source": [
    "#### Boolean Comparison for lists and strings"
   ]
  },
  {
   "cell_type": "code",
   "execution_count": 81,
   "metadata": {},
   "outputs": [
    {
     "name": "stdout",
     "output_type": "stream",
     "text": [
      "True\n",
      "False\n"
     ]
    }
   ],
   "source": [
    "# If you have any sequence (list, or string),\n",
    "# you can test if an item is in the sequence using the keyword “in” as an operator.\n",
    "# This works to test if an item is in a list.\n",
    "\n",
    "print('a' in myList2)\n",
    "print('b' in myList1)"
   ]
  },
  {
   "cell_type": "code",
   "execution_count": 82,
   "metadata": {},
   "outputs": [
    {
     "name": "stdout",
     "output_type": "stream",
     "text": [
      "False\n"
     ]
    }
   ],
   "source": [
    "# Is 'a' in myList3, which itself contains myList2?\n",
    "print('a' in myList3)"
   ]
  },
  {
   "cell_type": "code",
   "execution_count": 83,
   "metadata": {},
   "outputs": [
    {
     "data": {
      "text/plain": [
       "True"
      ]
     },
     "execution_count": 83,
     "metadata": {},
     "output_type": "execute_result"
    }
   ],
   "source": [
    "'el' in 'elephant'"
   ]
  },
  {
   "cell_type": "code",
   "execution_count": 84,
   "metadata": {},
   "outputs": [
    {
     "data": {
      "text/plain": [
       "True"
      ]
     },
     "execution_count": 84,
     "metadata": {},
     "output_type": "execute_result"
    }
   ],
   "source": [
    "'ph' in 'elephant'"
   ]
  },
  {
   "cell_type": "code",
   "execution_count": 85,
   "metadata": {},
   "outputs": [
    {
     "data": {
      "text/plain": [
       "False"
      ]
     },
     "execution_count": 85,
     "metadata": {},
     "output_type": "execute_result"
    }
   ],
   "source": [
    "'hp' in 'elephant'"
   ]
  },
  {
   "cell_type": "code",
   "execution_count": 86,
   "metadata": {},
   "outputs": [
    {
     "data": {
      "text/plain": [
       "False"
      ]
     },
     "execution_count": 86,
     "metadata": {},
     "output_type": "execute_result"
    }
   ],
   "source": [
    "('p' in 'elephant') and ('z' in 'elephant')"
   ]
  },
  {
   "cell_type": "code",
   "execution_count": 87,
   "metadata": {},
   "outputs": [
    {
     "data": {
      "text/plain": [
       "True"
      ]
     },
     "execution_count": 87,
     "metadata": {},
     "output_type": "execute_result"
    }
   ],
   "source": [
    "('p' in 'elephant') or ('z' in 'elephant')"
   ]
  },
  {
   "cell_type": "markdown",
   "metadata": {},
   "source": [
    "---\n",
    "# Simple Loops"
   ]
  },
  {
   "cell_type": "markdown",
   "metadata": {},
   "source": [
    "One of the most common operations on lists is to iterate over all the elements. Python has a <b>“for”</b> loop <i>(called “for each” in some languages)</i> that allows you to use an item variable to name each element in the list in order.  The “for” loop is also a multi-line statement and follows the same rules as \"if\".  The keyword in is used to indicate that we are taking elements from that list."
   ]
  },
  {
   "cell_type": "code",
   "execution_count": 88,
   "metadata": {},
   "outputs": [
    {
     "name": "stdout",
     "output_type": "stream",
     "text": [
      "p\n",
      "y\n",
      "t\n",
      "h\n",
      "o\n",
      "n\n"
     ]
    }
   ],
   "source": [
    "word = 'python'\n",
    "\n",
    "for x in word: # char will act as the iterator variable and will disapear after the loop is complete\n",
    "    print(x)"
   ]
  },
  {
   "cell_type": "code",
   "execution_count": 89,
   "metadata": {},
   "outputs": [
    {
     "name": "stdout",
     "output_type": "stream",
     "text": [
      "index: 0 value: 1\n",
      "index: 1 value: 2\n",
      "index: 2 value: 3\n",
      "index: 3 value: 4\n",
      "index: 4 value: 5\n"
     ]
    }
   ],
   "source": [
    "numbers = [1,2,3,4,5,6,7,8,9,10]\n",
    "\n",
    "for idx,num in enumerate(numbers):\n",
    "    if num <= 5:\n",
    "        print('index:', idx, 'value:', num)"
   ]
  },
  {
   "cell_type": "markdown",
   "metadata": {},
   "source": [
    "Another common pattern is to construct a list with a loop in which each element is added to the list.\n",
    "\n",
    "We start with an empty list and then add an item each time around the loop."
   ]
  },
  {
   "cell_type": "code",
   "execution_count": 90,
   "metadata": {},
   "outputs": [
    {
     "name": "stdout",
     "output_type": "stream",
     "text": [
      "My List 2:\n",
      "['a', 'b', 'c', 'd']\n",
      "\n",
      "\n",
      "My List 4:\n",
      "['character: a', 'character: b', 'character: c', 'character: d']\n"
     ]
    }
   ],
   "source": [
    "myList4 = []\n",
    "print('My List 2:')\n",
    "print(myList2)\n",
    "\n",
    "for elem in myList2: # this is called upacking a list\n",
    "    newstring = 'character: ' + elem\n",
    "    myList4.append(newstring)\n",
    "    \n",
    "print('\\n')\n",
    "print('My List 4:')\n",
    "print(myList4)"
   ]
  },
  {
   "cell_type": "code",
   "execution_count": 91,
   "metadata": {},
   "outputs": [
    {
     "name": "stdout",
     "output_type": "stream",
     "text": [
      "My List 1:\n",
      "[1, 2, 3, None]\n",
      "\n",
      "\n",
      "My List 5:\n",
      "[1, 4, 9]\n"
     ]
    }
   ],
   "source": [
    "myList5 = []\n",
    "print('My List 1:')\n",
    "print(myList1)\n",
    "\n",
    "\n",
    "for elem in myList1[:-1]: # unpack all elements except the last which is a None value\n",
    "    newint = elem**2 # return the value in the list, squared\n",
    "    myList5.append(newint)\n",
    "    \n",
    "print('\\n')\n",
    "print('My List 5:')\n",
    "print(myList5)"
   ]
  },
  {
   "cell_type": "markdown",
   "metadata": {},
   "source": [
    "<b>NOTE:</b> The other loop type is <b>while</b> and this keeps looping until the conditional statement is no longer evaluates as True"
   ]
  },
  {
   "cell_type": "code",
   "execution_count": 92,
   "metadata": {},
   "outputs": [
    {
     "name": "stdout",
     "output_type": "stream",
     "text": [
      "0\n",
      "1\n",
      "2\n",
      "3\n",
      "4\n",
      "5\n",
      "6\n",
      "7\n",
      "8\n",
      "9\n"
     ]
    }
   ],
   "source": [
    "#simple while loop\n",
    "\n",
    "i=0\n",
    "while i < 10:\n",
    "    print(i)\n",
    "    i += 1"
   ]
  },
  {
   "cell_type": "markdown",
   "metadata": {},
   "source": [
    "## Range Function"
   ]
  },
  {
   "cell_type": "markdown",
   "metadata": {},
   "source": [
    "Range is a python function which produces numbers from 0 to N-1, and we can use that in our loops:"
   ]
  },
  {
   "cell_type": "code",
   "execution_count": 93,
   "metadata": {},
   "outputs": [
    {
     "name": "stdout",
     "output_type": "stream",
     "text": [
      "0\n",
      "1\n",
      "2\n",
      "3\n",
      "4\n",
      "5\n",
      "6\n",
      "7\n",
      "8\n",
      "9\n"
     ]
    }
   ],
   "source": [
    "# let's see what range produces when iterated over\n",
    "for i in range(10):\n",
    "    print(i)"
   ]
  },
  {
   "cell_type": "code",
   "execution_count": 94,
   "metadata": {},
   "outputs": [
    {
     "name": "stdout",
     "output_type": "stream",
     "text": [
      "\n",
      "Even integers in range (0 - 6):\n",
      "[2, 4]\n"
     ]
    }
   ],
   "source": [
    "# let's append to a list only even values yielded by range(N)\n",
    "\n",
    "evens = []\n",
    "user_input = int(input('Enter an integer great than 0: '))\n",
    "\n",
    "for i in range(user_input):\n",
    "    if i%2 == 0 and i>0: # Is 0 even?\n",
    "        evens.append(i)\n",
    "\n",
    "print('\\nEven integers in range (0 - '+str(user_input)+'):')\n",
    "print(evens)"
   ]
  },
  {
   "cell_type": "markdown",
   "metadata": {},
   "source": [
    "## Exercise 2"
   ]
  },
  {
   "cell_type": "code",
   "execution_count": 96,
   "metadata": {},
   "outputs": [
    {
     "name": "stdout",
     "output_type": "stream",
     "text": [
      "1\n",
      "3\n",
      "5\n",
      "7\n",
      "9\n",
      "11\n",
      "13\n",
      "15\n",
      "Concatenated even-positioned vowels: ioo\n",
      "Length of the result: 3\n"
     ]
    }
   ],
   "source": [
    "#Define two phrases\n",
    "#For each phrase only select the even letters if they are vowels. \n",
    "#Concatenate all the even letters into one string. \n",
    "#Print the string and the length of the string\n",
    "\n",
    "# Defined two phrases\n",
    "phrase1 = \"Hi, how are you?\"\n",
    "phrase2 = \"I am fine.\"\n",
    "\n",
    "# Vowels \n",
    "vowels = \"aeiouAEIOU\"\n",
    "\n",
    "# Result variable inistialized\n",
    "result = \"\"\n",
    "\n",
    "# Loop through even indexes of phrase1\n",
    "for i in range(1, len(phrase1), 2):  \n",
    "    if phrase1[i] in vowels:\n",
    "        result += phrase1[i]\n",
    "\n",
    "# Loop through even indexes of phrase2\n",
    "for i in range(1, len(phrase2), 2):\n",
    "    if phrase2[i] in vowels:\n",
    "        result += phrase2[i]\n",
    "\n",
    "# Print the result and its length\n",
    "print(\"Concatenated even-positioned vowels:\", result)\n",
    "print(\"Length of the result:\", len(result))\n",
    "\n",
    "\n"
   ]
  },
  {
   "cell_type": "markdown",
   "metadata": {},
   "source": [
    "---"
   ]
  },
  {
   "cell_type": "markdown",
   "metadata": {},
   "source": [
    "---"
   ]
  },
  {
   "cell_type": "markdown",
   "metadata": {},
   "source": [
    "# Review\n",
    "\n",
    "    - Variables\n",
    "    - Numbers\n",
    "    - Strings\n",
    "    - Booleans\n",
    "    - Conditionals\n",
    "    - Lists\n",
    "    - Loops"
   ]
  }
 ],
 "metadata": {
  "kernelspec": {
   "display_name": "Python 3 (ipykernel)",
   "language": "python",
   "name": "python3"
  },
  "language_info": {
   "codemirror_mode": {
    "name": "ipython",
    "version": 3
   },
   "file_extension": ".py",
   "mimetype": "text/x-python",
   "name": "python",
   "nbconvert_exporter": "python",
   "pygments_lexer": "ipython3",
   "version": "3.12.4"
  }
 },
 "nbformat": 4,
 "nbformat_minor": 4
}
